{
  "cells": [
    {
      "cell_type": "markdown",
      "metadata": {
        "id": "view-in-github",
        "colab_type": "text"
      },
      "source": [
        "<a href=\"https://colab.research.google.com/github/JoacoPiede/Introduccion_A_Programacion/blob/main/Ejercicios_Int_A_Programacion_ACT_2.ipynb\" target=\"_parent\"><img src=\"https://colab.research.google.com/assets/colab-badge.svg\" alt=\"Open In Colab\"/></a>"
      ]
    },
    {
      "cell_type": "code",
      "execution_count": null,
      "metadata": {
        "id": "zwFnJsE6vjf8"
      },
      "outputs": [],
      "source": []
    },
    {
      "cell_type": "markdown",
      "source": [
        "**Ejercicio 1**"
      ],
      "metadata": {
        "id": "qwDQL3d4sD4a"
      }
    },
    {
      "cell_type": "code",
      "source": [
        "def ingresar_array(NumerosEnArray):\n",
        "    while True:\n",
        "        array = []\n",
        "        for i in range(NumerosEnArray):\n",
        "            while True:\n",
        "                try:\n",
        "                    num = int(input(f\"Ingresar el número {i + 1}/{NumerosEnArray}: \"))\n",
        "                    array.append(num)\n",
        "                    break\n",
        "                except ValueError:\n",
        "                    print(\"Por favor, ingrese un número entero válido.\")\n",
        "        if all(array[i] <= array[i + 1] for i in range(NumerosEnArray - 1)):\n",
        "            return array\n",
        "        else:\n",
        "            print(\"Los números no están en orden creciente. Por favor, ingrese los números nuevamente.\")\n",
        "\n",
        "def merge_arrays(PrimerArray1, SegundoArray2):\n",
        "    return sorted(PrimerArray1 + SegundoArray2)\n",
        "\n",
        "# Ingresar los arrays\n",
        "print(\"Ingresar 10 números enteros en orden creciente:\")\n",
        "PrimerArray1 = ingresar_array(10)\n",
        "print(\"Ingresar 13 números enteros en orden creciente:\")\n",
        "SegundoArray2 = ingresar_array(13)\n",
        "\n",
        "# Se juntan los 2 arrays para unirlos\n",
        "LosDosArrayCombinados = merge_arrays(PrimerArray1, SegundoArray2)\n",
        "\n",
        "# Mostrar el array combinado\n",
        "print(\"El array combinado en orden creciente es:\")\n",
        "print(LosDosArrayCombinados)\n"
      ],
      "metadata": {
        "id": "8SFxNxBtp1Rd",
        "outputId": "5d030afd-8acd-4aea-a68c-7f0176919cd0",
        "colab": {
          "base_uri": "https://localhost:8080/"
        }
      },
      "execution_count": 9,
      "outputs": [
        {
          "output_type": "stream",
          "name": "stdout",
          "text": [
            "Ingresar 10 números enteros en orden creciente:\n",
            "Ingresar el número 1/10: 1\n",
            "Ingresar el número 2/10: 2\n",
            "Ingresar el número 3/10: 3\n",
            "Ingresar el número 4/10: 4\n",
            "Ingresar el número 5/10: 5\n",
            "Ingresar el número 6/10: 6\n",
            "Ingresar el número 7/10: 7\n",
            "Ingresar el número 8/10: 8\n",
            "Ingresar el número 9/10: 9\n",
            "Ingresar el número 10/10: 10\n",
            "Ingresar 13 números enteros en orden creciente:\n",
            "Ingresar el número 1/13: 11\n",
            "Ingresar el número 2/13: 12\n",
            "Ingresar el número 3/13: 13\n",
            "Ingresar el número 4/13: 14\n",
            "Ingresar el número 5/13: 15\n",
            "Ingresar el número 6/13: 16\n",
            "Ingresar el número 7/13: 17\n",
            "Ingresar el número 8/13: 18\n",
            "Ingresar el número 9/13: 19\n",
            "Ingresar el número 10/13: 20\n",
            "Ingresar el número 11/13: 21\n",
            "Ingresar el número 12/13: 22\n",
            "Ingresar el número 13/13: 23\n",
            "El array combinado en orden creciente es:\n",
            "[1, 2, 3, 4, 5, 6, 7, 8, 9, 10, 11, 12, 13, 14, 15, 16, 17, 18, 19, 20, 21, 22, 23]\n"
          ]
        }
      ]
    },
    {
      "cell_type": "markdown",
      "source": [
        "**Ejercicio 2**"
      ],
      "metadata": {
        "id": "sto3t1YnsOIm"
      }
    },
    {
      "cell_type": "code",
      "source": [
        "def ingresar_matriz(filas, columnas):\n",
        "    matriz = []\n",
        "    for i in range(filas):\n",
        "        while True:\n",
        "            try:\n",
        "                # Ingreso de una fila de la matriz\n",
        "                fila = list(map(int, input(f\"Ingrese los {columnas} elementos de la fila {i + 1}/{filas}, separados por espacios: \").split()))\n",
        "                if len(fila) == columnas:\n",
        "                    matriz.append(fila)\n",
        "                    break\n",
        "                else:\n",
        "                    print(f\"Debe ingresar exactamente {columnas} números.\")\n",
        "            except ValueError:\n",
        "                print(\"Por favor, ingrese números enteros válidos.\")\n",
        "    return matriz\n",
        "\n",
        "def imprimir_matriz(matriz):\n",
        "    # Imprimir la matriz fila por fila\n",
        "    for fila in matriz:\n",
        "        print(\" \".join(map(str, fila)))\n",
        "\n",
        "def actualizar_elemento(matriz, fila, col, nuevo_valor):\n",
        "    # Actualizar un elemento en la matriz\n",
        "    matriz[fila][col] = nuevo_valor\n",
        "\n",
        "def intercambiar_filas(matriz, fila1, fila2):\n",
        "    # Intercambiar dos filas en la matriz\n",
        "    matriz[fila1], matriz[fila2] = matriz[fila2], matriz[fila1]\n",
        "\n",
        "# Definir dimensiones de la matriz\n",
        "filas = 3\n",
        "columnas = 4\n",
        "\n",
        "# Ingresar la matriz\n",
        "print(\"Ingresar la matriz de 3 filas y 4 columnas:\")\n",
        "matriz = ingresar_matriz(filas, columnas)\n",
        "\n",
        "# Ingresar los dos números y la fila donde se desea insertar\n",
        "while True:\n",
        "    try:\n",
        "        numero1 = int(input(\"Ingrese el primer número: \"))\n",
        "        numero2 = int(input(\"Ingrese el segundo número: \"))\n",
        "        fila = int(input(\"Ingrese el número de la fila (1-3) donde desea cambiar los números: \")) - 1\n",
        "        col1 = int(input(f\"Ingrese la columna (1-{columnas}) donde desea insertar el primer número: \")) - 1\n",
        "        col2 = int(input(f\"Ingrese la columna (1-{columnas}) donde desea insertar el segundo número: \")) - 1\n",
        "        if 0 <= fila < filas and 0 <= col1 < columnas and 0 <= col2 < columnas:\n",
        "            break\n",
        "        else:\n",
        "            print(f\"Las filas deben estar entre 1 y {filas} y las columnas deben estar entre 1 y {columnas}.\")\n",
        "    except ValueError:\n",
        "        print(\"Por favor, ingrese números enteros válidos.\")\n",
        "\n",
        "# Actualizar los elementos en la fila especificada\n",
        "actualizar_elemento(matriz, fila, col1, numero1)\n",
        "actualizar_elemento(matriz, fila, col2, numero2)\n",
        "\n",
        "# Imprimir la matriz resultante después de actualizar la fila especificada\n",
        "print(\"La matriz resultante después de actualizar la fila es:\")\n",
        "imprimir_matriz(matriz)\n",
        "\n",
        "# Intercambiar el orden de las filas\n",
        "while True:\n",
        "    try:\n",
        "        fila1 = int(input(\"Ingrese el número de la primera fila a intercambiar (1-3): \")) - 1\n",
        "        fila2 = int(input(\"Ingrese el número de la segunda fila a intercambiar (1-3): \")) - 1\n",
        "        if 0 <= fila1 < filas and 0 <= fila2 < filas:\n",
        "            break\n",
        "        else:\n",
        "            print(\"Los números de fila deben estar entre 1 y 3.\")\n",
        "    except ValueError:\n",
        "        print(\"Por favor, ingrese números enteros válidos.\")\n",
        "\n",
        "# Intercambiar las filas en la matriz\n",
        "intercambiar_filas(matriz, fila1, fila2)\n",
        "\n",
        "# Imprimir la matriz resultante después de intercambiar las filas\n",
        "print(\"La matriz resultante después de intercambiar las filas es:\")\n",
        "imprimir_matriz(matriz)\n"
      ],
      "metadata": {
        "id": "dTqi2L09qYpr",
        "outputId": "9c138303-9043-4578-f3e9-a973fa198ae6",
        "colab": {
          "base_uri": "https://localhost:8080/"
        }
      },
      "execution_count": 5,
      "outputs": [
        {
          "output_type": "stream",
          "name": "stdout",
          "text": [
            "Ingresar la matriz de 3 filas y 4 columnas:\n",
            "Ingrese los 4 elementos de la fila 1/3, separados por espacios: 1 2 3 4\n",
            "Ingrese los 4 elementos de la fila 2/3, separados por espacios: 5 6 7 8\n",
            "Ingrese los 4 elementos de la fila 3/3, separados por espacios: 9 10 11 12\n",
            "Ingrese el primer número: 20\n",
            "Ingrese el segundo número: 21\n",
            "Ingrese el número de la fila (1-3) donde desea cambiar los números: 1\n",
            "Ingrese la columna (1-4) donde desea insertar el primer número: 2\n",
            "Ingrese la columna (1-4) donde desea insertar el segundo número: 1\n",
            "La matriz resultante después de actualizar la fila es:\n",
            "21 20 3 4\n",
            "5 6 7 8\n",
            "9 10 11 12\n",
            "Ingrese el número de la primera fila a intercambiar (1-3): 1\n",
            "Ingrese el número de la segunda fila a intercambiar (1-3): 3\n",
            "La matriz resultante después de intercambiar las filas es:\n",
            "9 10 11 12\n",
            "5 6 7 8\n",
            "21 20 3 4\n"
          ]
        }
      ]
    },
    {
      "cell_type": "markdown",
      "source": [
        "**Ejercicio 3**"
      ],
      "metadata": {
        "id": "P1i1aG9qseav"
      }
    },
    {
      "cell_type": "code",
      "source": [
        "# Inicializar contadores\n",
        "suma_positivos = 0\n",
        "cantidad_positivos = 0\n",
        "suma_negativos = 0\n",
        "cantidad_negativos = 0\n",
        "cantidad_ceros = 0\n",
        "\n",
        "# Leer los 30 números\n",
        "for _ in range(30):\n",
        "    numero = float(input(\"Ingrese un número: \"))\n",
        "    if numero > 0:\n",
        "        suma_positivos += numero\n",
        "        cantidad_positivos += 1\n",
        "    elif numero < 0:\n",
        "        suma_negativos += numero\n",
        "        cantidad_negativos += 1\n",
        "    else:\n",
        "        cantidad_ceros += 1\n",
        "\n",
        "# Calcular promedios\n",
        "promedio_positivos = suma_positivos / cantidad_positivos if cantidad_positivos != 0 else 0\n",
        "promedio_negativos = suma_negativos / cantidad_negativos if cantidad_negativos != 0 else 0\n",
        "\n",
        "# Mostrar resultados\n",
        "print(\"Promedio de los valores positivos:\", promedio_positivos)\n",
        "print(\"Promedio de los valores negativos:\", promedio_negativos)\n",
        "print(\"Cantidad de valores ceros:\", cantidad_ceros)\n"
      ],
      "metadata": {
        "id": "8ImbJjpWrLfF",
        "outputId": "26fe43a7-cd2a-42bc-ec23-3f9d58030b5b",
        "colab": {
          "base_uri": "https://localhost:8080/"
        }
      },
      "execution_count": 7,
      "outputs": [
        {
          "output_type": "stream",
          "name": "stdout",
          "text": [
            "Ingrese un número: 0\n",
            "Ingrese un número: 1\n",
            "Ingrese un número: -1\n",
            "Ingrese un número: 2\n",
            "Ingrese un número: -2\n",
            "Ingrese un número: 3\n",
            "Ingrese un número: -3\n",
            "Ingrese un número: 4\n",
            "Ingrese un número: -4\n",
            "Ingrese un número: 5\n",
            "Ingrese un número: -5\n",
            "Ingrese un número: 6\n",
            "Ingrese un número: -6\n",
            "Ingrese un número: 7\n",
            "Ingrese un número: -7\n",
            "Ingrese un número: 8\n",
            "Ingrese un número: -8\n",
            "Ingrese un número: 9\n",
            "Ingrese un número: -9\n",
            "Ingrese un número: 10\n",
            "Ingrese un número: -10\n",
            "Ingrese un número: 11\n",
            "Ingrese un número: -11\n",
            "Ingrese un número: 12\n",
            "Ingrese un número: -12\n",
            "Ingrese un número: 13\n",
            "Ingrese un número: -13\n",
            "Ingrese un número: 14\n",
            "Ingrese un número: -14\n",
            "Ingrese un número: 15\n",
            "Promedio de los valores positivos: 8.0\n",
            "Promedio de los valores negativos: -7.5\n",
            "Cantidad de valores ceros: 1\n"
          ]
        }
      ]
    }
  ],
  "metadata": {
    "colab": {
      "name": "Te damos la bienvenida a Colaboratory",
      "toc_visible": true,
      "provenance": [],
      "include_colab_link": true
    },
    "kernelspec": {
      "display_name": "Python 3",
      "name": "python3"
    }
  },
  "nbformat": 4,
  "nbformat_minor": 0
}