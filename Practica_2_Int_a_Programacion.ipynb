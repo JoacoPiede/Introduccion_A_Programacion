{
  "nbformat": 4,
  "nbformat_minor": 0,
  "metadata": {
    "colab": {
      "provenance": [],
      "authorship_tag": "ABX9TyO4i3gJ/zoeo4weIn7hWwEw",
      "include_colab_link": true
    },
    "kernelspec": {
      "name": "python3",
      "display_name": "Python 3"
    },
    "language_info": {
      "name": "python"
    }
  },
  "cells": [
    {
      "cell_type": "markdown",
      "metadata": {
        "id": "view-in-github",
        "colab_type": "text"
      },
      "source": [
        "<a href=\"https://colab.research.google.com/github/JoacoPiede/Introduccion_A_Programacion/blob/main/Practica_2_Int_a_Programacion.ipynb\" target=\"_parent\"><img src=\"https://colab.research.google.com/assets/colab-badge.svg\" alt=\"Open In Colab\"/></a>"
      ]
    },
    {
      "cell_type": "markdown",
      "source": [
        "**Practica 2 actividades**"
      ],
      "metadata": {
        "id": "xkNyrl46fXF7"
      }
    },
    {
      "cell_type": "markdown",
      "source": [
        "EJERCICIO 1"
      ],
      "metadata": {
        "id": "DVK0HmfVfmoJ"
      }
    },
    {
      "cell_type": "code",
      "execution_count": 1,
      "metadata": {
        "colab": {
          "base_uri": "https://localhost:8080/"
        },
        "id": "MKiEtuVvc5gA",
        "outputId": "7c5ec205-8d1b-4def-a987-7d45f7ba7bb6"
      },
      "outputs": [
        {
          "output_type": "stream",
          "name": "stdout",
          "text": [
            "La matriz cargada es:\n",
            "1 2 3 4\n",
            "5 6 7 8\n",
            "9 10 11 12\n",
            "13 14 15 16\n"
          ]
        }
      ],
      "source": [
        "# Crear la matriz de 4x4 con los números proporcionados\n",
        "matriz = [\n",
        "    [1, 2, 3, 4],\n",
        "    [5, 6, 7, 8],\n",
        "    [9, 10, 11, 12],\n",
        "    [13, 14, 15, 16]\n",
        "]\n",
        "\n",
        "# Función para imprimir la matriz\n",
        "def imprimir_matriz(matriz):\n",
        "    for fila in matriz:\n",
        "        print(\" \".join(map(str, fila)))\n",
        "\n",
        "# Imprimir la matriz\n",
        "print(\"La matriz cargada es:\")\n",
        "imprimir_matriz(matriz)\n"
      ]
    },
    {
      "cell_type": "markdown",
      "source": [
        "EJ 1A"
      ],
      "metadata": {
        "id": "oXTYA-qdf-1_"
      }
    },
    {
      "cell_type": "code",
      "source": [
        "# Función para imprimir los elementos de la matriz en el formato solicitado\n",
        "def imprimir_elementos_matriz(matriz):\n",
        "    # Lista para almacenar todos los elementos de la matriz\n",
        "    elementos = []\n",
        "\n",
        "    # Recorrer la matriz por filas y añadir los elementos a la lista\n",
        "    for fila in matriz:\n",
        "        elementos.extend(fila)\n",
        "\n",
        "    # Convertir todos los elementos a cadenas y unirlos con '-'\n",
        "    resultado = \"-\".join(map(str, elementos))\n",
        "\n",
        "    # Imprimir el resultado\n",
        "    print(\"Los elementos de la matriz son:\", resultado)\n",
        "\n",
        "# Imprimir los elementos de la matriz\n",
        "imprimir_elementos_matriz(matriz)"
      ],
      "metadata": {
        "colab": {
          "base_uri": "https://localhost:8080/"
        },
        "id": "usF0nriIgChe",
        "outputId": "a1642198-962c-43a9-b44e-7518e2e4d3ae"
      },
      "execution_count": 2,
      "outputs": [
        {
          "output_type": "stream",
          "name": "stdout",
          "text": [
            "Los elementos de la matriz son: 1-2-3-4-5-6-7-8-9-10-11-12-13-14-15-16\n"
          ]
        }
      ]
    },
    {
      "cell_type": "markdown",
      "source": [
        "EJ 1B"
      ],
      "metadata": {
        "id": "tYXQElORgaxK"
      }
    },
    {
      "cell_type": "code",
      "source": [
        "# Función para calcular y mostrar el promedio de la diagonal principal\n",
        "def promedio_diagonal_principal(matriz):\n",
        "    # Inicializar la suma de los elementos de la diagonal principal\n",
        "    suma_diagonal = 0\n",
        "    # Inicializar el número de elementos de la diagonal principal\n",
        "    n = len(matriz)\n",
        "\n",
        "    # Recorrer los elementos de la diagonal principal\n",
        "    for i in range(n):\n",
        "        suma_diagonal += matriz[i][i]\n",
        "\n",
        "    # Calcular el promedio\n",
        "    promedio = suma_diagonal / n\n",
        "\n",
        "    # Imprimir el resultado\n",
        "    print(\"El promedio de la diagonal principal es:\", promedio)\n",
        "\n",
        "# Calcular y mostrar el promedio de la diagonal principal\n",
        "promedio_diagonal_principal(matriz)"
      ],
      "metadata": {
        "colab": {
          "base_uri": "https://localhost:8080/"
        },
        "id": "bLrO6pB4gdX0",
        "outputId": "060c30d4-f364-4405-8304-3158a62e8f66"
      },
      "execution_count": 3,
      "outputs": [
        {
          "output_type": "stream",
          "name": "stdout",
          "text": [
            "El promedio de la diagonal principal es: 8.5\n"
          ]
        }
      ]
    },
    {
      "cell_type": "markdown",
      "source": [
        "EJ 1C"
      ],
      "metadata": {
        "id": "KSlhUVWEkNvy"
      }
    },
    {
      "cell_type": "code",
      "source": [
        "# Función para calcular la suma de cada fila\n",
        "def suma_filas(matriz):\n",
        "    print(\"Suma de cada fila:\")\n",
        "    for i, fila in enumerate(matriz):\n",
        "        suma = sum(fila)\n",
        "        print(f\"Fila {i + 1}= {suma}\")\n",
        "\n",
        "# Función para calcular el promedio de cada columna\n",
        "def promedio_columnas(matriz):\n",
        "    print(\"\\nPromedio de cada columna:\")\n",
        "    num_filas = len(matriz)\n",
        "    num_columnas = len(matriz[0])\n",
        "    for j in range(num_columnas):\n",
        "        suma_columna = sum(matriz[i][j] for i in range(num_filas))\n",
        "        promedio = suma_columna / num_filas\n",
        "        # Modificado para mostrar enteros sin decimales\n",
        "        promedio = int(promedio) if promedio.is_integer() else promedio\n",
        "        print(f\"Columna {j + 1}= {promedio}\")\n",
        "\n",
        "# Calcular la suma de cada fila\n",
        "suma_filas(matriz)\n",
        "\n",
        "# Calcular el promedio de cada columna\n",
        "promedio_columnas(matriz)"
      ],
      "metadata": {
        "colab": {
          "base_uri": "https://localhost:8080/"
        },
        "id": "j9O1lkv2kPkJ",
        "outputId": "01668840-0225-4491-f368-b587bb81827b"
      },
      "execution_count": 5,
      "outputs": [
        {
          "output_type": "stream",
          "name": "stdout",
          "text": [
            "Suma de cada fila:\n",
            "Fila 1= 10\n",
            "Fila 2= 26\n",
            "Fila 3= 42\n",
            "Fila 4= 58\n",
            "\n",
            "Promedio de cada columna:\n",
            "Columna 1= 7\n",
            "Columna 2= 8\n",
            "Columna 3= 9\n",
            "Columna 4= 10\n"
          ]
        }
      ]
    },
    {
      "cell_type": "markdown",
      "source": [
        "EJERCICIO 2"
      ],
      "metadata": {
        "id": "7KHAruxMknCz"
      }
    },
    {
      "cell_type": "code",
      "source": [
        "# Función para ingresar un vector de 10 elementos enteros positivos\n",
        "def ingresar_vector():\n",
        "    vector = []\n",
        "    for i in range(10):\n",
        "        while True:\n",
        "            try:\n",
        "                num = int(input(f\"Ingrese el elemento {i + 1} del vector: \"))\n",
        "                if num > 0:\n",
        "                    vector.append(num)\n",
        "                    break\n",
        "                else:\n",
        "                    print(\"Por favor, ingrese un número entero positivo.\")\n",
        "            except ValueError:\n",
        "                print(\"Por favor, ingrese un número entero válido.\")\n",
        "    return vector\n",
        "\n",
        "# Función para buscar un valor en el vector\n",
        "def buscar_valor(vector, valor):\n",
        "    if valor in vector:\n",
        "        posicion = vector.index(valor)\n",
        "        print(f\"El valor {valor} fue encontrado en el vector en la posición {posicion}.\")\n",
        "    else:\n",
        "        print(f\"El valor {valor} NO fue encontrado en el vector.\")\n",
        "\n",
        "# Ingresar el vector\n",
        "print(\"Ingrese un vector de 10 elementos enteros positivos:\")\n",
        "vector = ingresar_vector()\n",
        "\n",
        "# Ingresar el valor a buscar\n",
        "valor_buscar = int(input(\"Ingrese el valor a buscar en el vector: \"))\n",
        "\n",
        "# Buscar el valor en el vector\n",
        "buscar_valor(vector, valor_buscar)\n"
      ],
      "metadata": {
        "colab": {
          "base_uri": "https://localhost:8080/"
        },
        "id": "Hk6uadR6lMIX",
        "outputId": "1eb64174-defa-4b4f-8587-cd1683b6250b"
      },
      "execution_count": 7,
      "outputs": [
        {
          "output_type": "stream",
          "name": "stdout",
          "text": [
            "Ingrese un vector de 10 elementos enteros positivos:\n",
            "Ingrese el elemento 1 del vector: X\n",
            "Por favor, ingrese un número entero válido.\n",
            "Ingrese el elemento 1 del vector: 1\n",
            "Ingrese el elemento 2 del vector: -1\n",
            "Por favor, ingrese un número entero positivo.\n",
            "Ingrese el elemento 2 del vector: 5\n",
            "Ingrese el elemento 3 del vector: 8\n",
            "Ingrese el elemento 4 del vector: 10\n",
            "Ingrese el elemento 5 del vector: 200\n",
            "Ingrese el elemento 6 del vector: 50\n",
            "Ingrese el elemento 7 del vector: 4\n",
            "Ingrese el elemento 8 del vector: 88\n",
            "Ingrese el elemento 9 del vector: 60\n",
            "Ingrese el elemento 10 del vector: 13\n",
            "Ingrese el valor a buscar en el vector: 2\n",
            "El valor 2 NO fue encontrado en el vector.\n"
          ]
        }
      ]
    }
  ]
}